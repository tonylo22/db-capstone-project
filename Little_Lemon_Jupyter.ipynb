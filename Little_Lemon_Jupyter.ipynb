{
 "cells": [
  {
   "cell_type": "code",
   "execution_count": 8,
   "id": "bced6e8e",
   "metadata": {},
   "outputs": [],
   "source": [
    "# !pip install mysql-connector-python\n",
    "import mysql.connector as connector"
   ]
  },
  {
   "cell_type": "code",
   "execution_count": 9,
   "id": "9a505e52",
   "metadata": {},
   "outputs": [],
   "source": [
    "connection = connector.connect(user = \"your_username\", password = \"your_password\", db=\"littlelemondb\")"
   ]
  },
  {
   "cell_type": "code",
   "execution_count": 10,
   "id": "735731ce",
   "metadata": {},
   "outputs": [],
   "source": [
    "cursor = connection.cursor()"
   ]
  },
  {
   "cell_type": "code",
   "execution_count": 14,
   "id": "4115a0cf",
   "metadata": {},
   "outputs": [
    {
     "name": "stdout",
     "output_type": "stream",
     "text": [
      "('bookings',)\n",
      "('customers',)\n",
      "('employees',)\n",
      "('menu',)\n",
      "('order_status',)\n",
      "('order_status_types',)\n",
      "('orders',)\n",
      "('ordersview',)\n"
     ]
    }
   ],
   "source": [
    "show_table_query = \"SHOW TABLES;\"\n",
    "cursor.execute(show_table_query)\n",
    "results = cursor.fetchall()\n",
    "for result in results:\n",
    "    print(result)"
   ]
  },
  {
   "cell_type": "code",
   "execution_count": 15,
   "id": "9e355fee",
   "metadata": {},
   "outputs": [
    {
     "name": "stdout",
     "output_type": "stream",
     "text": [
      "('Name', 'Contact', 'Bill Amount')\n",
      "('LeBron James', '91234567', Decimal('70.00'))\n",
      "('LeBron James', '91234567', Decimal('120.00'))\n",
      "('Kevin Durant', '97353535', Decimal('95.00'))\n",
      "('Kevin Durant', '97353535', Decimal('90.00'))\n",
      "('Anthony Davis', '90330303', Decimal('180.00'))\n",
      "('Steph Curry', '99303030', Decimal('220.00'))\n",
      "('Nikola Jokic', '60151515', Decimal('180.00'))\n"
     ]
    }
   ],
   "source": [
    "promotion_query = \"\"\"\n",
    "SELECT CONCAT(c.first_name, ' ', c.surname) as \"Name\", c.phone as \"Contact\", m.price * o.quantity as \"Bill Amount\"\n",
    "FROM orders as o\n",
    "INNER JOIN menu as m ON o.itemID = m.itemID\n",
    "INNER JOIN customers as c ON o.customerID = c.customerID\n",
    "WHERE m.price * o.quantity > 60;\n",
    "\"\"\"\n",
    "cursor.execute(promotion_query)\n",
    "results = cursor.fetchall()\n",
    "print(cursor.column_names)\n",
    "for result in results:\n",
    "    print(result)"
   ]
  },
  {
   "cell_type": "code",
   "execution_count": 16,
   "id": "b475922a",
   "metadata": {},
   "outputs": [
    {
     "name": "stdout",
     "output_type": "stream",
     "text": [
      "Cursor is closed.\n",
      "MySQL connection is closed.\n"
     ]
    }
   ],
   "source": [
    "if connection.is_connected():\n",
    "    cursor.close()\n",
    "    print(\"Cursor is closed.\")\n",
    "    connection.close()\n",
    "    print(\"MySQL connection is closed.\")\n",
    "else:\n",
    "    print(\"Connection is already closed\")"
   ]
  }
 ],
 "metadata": {
  "kernelspec": {
   "display_name": "Python 3 (ipykernel)",
   "language": "python",
   "name": "python3"
  },
  "language_info": {
   "codemirror_mode": {
    "name": "ipython",
    "version": 3
   },
   "file_extension": ".py",
   "mimetype": "text/x-python",
   "name": "python",
   "nbconvert_exporter": "python",
   "pygments_lexer": "ipython3",
   "version": "3.9.12"
  }
 },
 "nbformat": 4,
 "nbformat_minor": 5
}
